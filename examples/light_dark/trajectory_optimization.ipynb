{
 "cells": [
  {
   "attachments": {},
   "cell_type": "markdown",
   "metadata": {},
   "source": [
    "# Trajectory Optimization\n",
    "\n",
    "Here we show a simple trajectory optimization example using the `TimeVaryingOpenLoopPolicy` and the `FirstOrderPolicyOptimizer`. "
   ]
  },
  {
   "cell_type": "code",
   "execution_count": 1,
   "metadata": {},
   "outputs": [],
   "source": [
    "import numpy as np\n",
    "import torch\n",
    "import matplotlib.pyplot as plt\n",
    "\n",
    "from score_po.policy_optimizer import (\n",
    "    PolicyOptimizerParams,\n",
    "    FirstOrderPolicyOptimizer)\n",
    "from score_po.dynamical_system import DynamicalSystem\n",
    "from score_po.costs import QuadraticCost\n",
    "from score_po.policy import TimeVaryingOpenLoopPolicy"
   ]
  },
  {
   "attachments": {},
   "cell_type": "markdown",
   "metadata": {},
   "source": [
    "We'll define the parameters first, which includes the horizon, batch size, rate, etc. \n",
    "Note that we have `params.x0_upper = params.x0_lower`, since we are solving a trajectory optimization problem from a fixed initial point."
   ]
  },
  {
   "cell_type": "code",
   "execution_count": 2,
   "metadata": {},
   "outputs": [],
   "source": [
    "params = PolicyOptimizerParams()\n",
    "params.T = 20\n",
    "params.x0_upper = torch.Tensor([0.3, 0.2])\n",
    "params.x0_lower = torch.Tensor([0.3, 0.2])\n",
    "params.batch_size = 1\n",
    "params.std = 1e-2\n",
    "params.lr = 1e-6\n",
    "params.max_iters = 100"
   ]
  },
  {
   "attachments": {},
   "cell_type": "markdown",
   "metadata": {},
   "source": [
    "Now we'll set up the dynamical system. We will choose the simple system of $f(x,u) = x + u$. To define this system, you'll need to make your own `DynamicalSystem` class and pass it onto `params`."
   ]
  },
  {
   "cell_type": "code",
   "execution_count": 3,
   "metadata": {},
   "outputs": [],
   "source": [
    "# 1. Set up dynamical system.\n",
    "class SingleIntegrator(DynamicalSystem):\n",
    "    def __init__(self):\n",
    "        super().__init__(2, 2)\n",
    "        self.is_differentiable = True\n",
    "\n",
    "    def dynamics(self, x, u):\n",
    "        return x + u\n",
    "\n",
    "    def dynamics_batch(self, x_batch, u_batch):\n",
    "        return x_batch + u_batch\n",
    "\n",
    "\n",
    "dynamics = SingleIntegrator()\n",
    "params.dynamical_system = dynamics\n"
   ]
  },
  {
   "attachments": {},
   "cell_type": "markdown",
   "metadata": {},
   "source": [
    "Then set up the cost function. Here we will use the quadartic cost \n",
    "$c_d(x_{T+1}) + \\sum^{i=0}_{T} c(x_t, u_t)$ where \n",
    "$c_d(x) = (x-x_d)^\\intercal \\mathbf{Q}_d (x - x_d)$ and $c(x,u) = (x - x_d)^\\intercal \\mathbf{Q} (x - x_d) + u^\\intercal \\mathbf{R} u$."
   ]
  },
  {
   "cell_type": "code",
   "execution_count": 4,
   "metadata": {},
   "outputs": [],
   "source": [
    "# 2. Set up cost.\n",
    "Q = torch.eye(2)\n",
    "R = 1e-1 * torch.eye(2)\n",
    "Qd = 100 * params.T * torch.eye(2)\n",
    "xd = torch.zeros(2)\n",
    "cost = QuadraticCost(Q, R, Qd, xd)\n",
    "params.cost = cost"
   ]
  },
  {
   "attachments": {},
   "cell_type": "markdown",
   "metadata": {},
   "source": [
    "Finall choose a policy class. For trajectory optimization, the right policy class is the open loop command $\\pi(x, t) = u_t$. We'll initialize this by using policy parameters, which is the zero policy."
   ]
  },
  {
   "cell_type": "code",
   "execution_count": 5,
   "metadata": {},
   "outputs": [],
   "source": [
    "# 3. Set up policy and initial guess.\n",
    "policy = TimeVaryingOpenLoopPolicy(2, 2, params.T)\n",
    "params.policy = policy\n",
    "params.policy_params_0 = policy.get_parameters()\n"
   ]
  },
  {
   "attachments": {},
   "cell_type": "markdown",
   "metadata": {},
   "source": [
    "Now we can solve our problem, and visualize our trajectory. "
   ]
  },
  {
   "cell_type": "code",
   "execution_count": 6,
   "metadata": {},
   "outputs": [
    {
     "name": "stdout",
     "output_type": "stream",
     "text": [
      "Iteration: 0000 | Cost: 262.600 | Time: 0.000\n",
      "Iteration: 0001 | Cost: 233.606 | Time: 0.017\n",
      "Iteration: 0002 | Cost: 195.710 | Time: 0.028\n",
      "Iteration: 0003 | Cost: 162.889 | Time: 0.039\n",
      "Iteration: 0004 | Cost: 146.374 | Time: 0.049\n",
      "Iteration: 0005 | Cost: 129.315 | Time: 0.060\n",
      "Iteration: 0006 | Cost: 108.757 | Time: 0.070\n",
      "Iteration: 0007 | Cost: 89.993 | Time: 0.081\n",
      "Iteration: 0008 | Cost: 78.265 | Time: 0.091\n",
      "Iteration: 0009 | Cost: 64.859 | Time: 0.101\n",
      "Iteration: 0010 | Cost: 50.178 | Time: 0.112\n",
      "Iteration: 0011 | Cost: 41.040 | Time: 0.122\n",
      "Iteration: 0012 | Cost: 35.397 | Time: 0.133\n",
      "Iteration: 0013 | Cost: 27.264 | Time: 0.143\n",
      "Iteration: 0014 | Cost: 24.254 | Time: 0.154\n",
      "Iteration: 0015 | Cost: 20.111 | Time: 0.164\n",
      "Iteration: 0016 | Cost: 18.153 | Time: 0.174\n",
      "Iteration: 0017 | Cost: 16.002 | Time: 0.185\n",
      "Iteration: 0018 | Cost: 15.947 | Time: 0.195\n",
      "Iteration: 0019 | Cost: 14.279 | Time: 0.206\n",
      "Iteration: 0020 | Cost: 12.097 | Time: 0.216\n",
      "Iteration: 0021 | Cost: 11.784 | Time: 0.227\n",
      "Iteration: 0022 | Cost: 11.998 | Time: 0.237\n",
      "Iteration: 0023 | Cost: 11.028 | Time: 0.248\n",
      "Iteration: 0024 | Cost: 8.005 | Time: 0.258\n",
      "Iteration: 0025 | Cost: 6.550 | Time: 0.268\n",
      "Iteration: 0026 | Cost: 5.751 | Time: 0.279\n",
      "Iteration: 0027 | Cost: 5.460 | Time: 0.289\n",
      "Iteration: 0028 | Cost: 5.787 | Time: 0.300\n",
      "Iteration: 0029 | Cost: 4.651 | Time: 0.311\n",
      "Iteration: 0030 | Cost: 4.316 | Time: 0.321\n",
      "Iteration: 0031 | Cost: 2.784 | Time: 0.332\n",
      "Iteration: 0032 | Cost: 2.238 | Time: 0.342\n",
      "Iteration: 0033 | Cost: 2.073 | Time: 0.352\n",
      "Iteration: 0034 | Cost: 2.380 | Time: 0.363\n",
      "Iteration: 0035 | Cost: 2.392 | Time: 0.373\n",
      "Iteration: 0036 | Cost: 2.325 | Time: 0.384\n",
      "Iteration: 0037 | Cost: 2.027 | Time: 0.394\n",
      "Iteration: 0038 | Cost: 1.898 | Time: 0.404\n",
      "Iteration: 0039 | Cost: 1.875 | Time: 0.415\n",
      "Iteration: 0040 | Cost: 2.022 | Time: 0.426\n",
      "Iteration: 0041 | Cost: 2.194 | Time: 0.437\n",
      "Iteration: 0042 | Cost: 2.265 | Time: 0.447\n",
      "Iteration: 0043 | Cost: 2.165 | Time: 0.458\n",
      "Iteration: 0044 | Cost: 1.436 | Time: 0.468\n",
      "Iteration: 0045 | Cost: 1.337 | Time: 0.479\n",
      "Iteration: 0046 | Cost: 1.379 | Time: 0.490\n",
      "Iteration: 0047 | Cost: 1.522 | Time: 0.500\n",
      "Iteration: 0048 | Cost: 1.515 | Time: 0.510\n",
      "Iteration: 0049 | Cost: 1.416 | Time: 0.521\n",
      "Iteration: 0050 | Cost: 1.305 | Time: 0.531\n",
      "Iteration: 0051 | Cost: 1.294 | Time: 0.542\n",
      "Iteration: 0052 | Cost: 1.411 | Time: 0.552\n",
      "Iteration: 0053 | Cost: 1.131 | Time: 0.563\n",
      "Iteration: 0054 | Cost: 1.312 | Time: 0.573\n",
      "Iteration: 0055 | Cost: 1.433 | Time: 0.584\n",
      "Iteration: 0056 | Cost: 1.442 | Time: 0.595\n",
      "Iteration: 0057 | Cost: 1.248 | Time: 0.605\n",
      "Iteration: 0058 | Cost: 1.275 | Time: 0.616\n",
      "Iteration: 0059 | Cost: 1.579 | Time: 0.627\n",
      "Iteration: 0060 | Cost: 1.403 | Time: 0.638\n",
      "Iteration: 0061 | Cost: 1.395 | Time: 0.648\n",
      "Iteration: 0062 | Cost: 1.360 | Time: 0.659\n",
      "Iteration: 0063 | Cost: 1.248 | Time: 0.669\n",
      "Iteration: 0064 | Cost: 1.480 | Time: 0.680\n",
      "Iteration: 0065 | Cost: 1.549 | Time: 0.690\n",
      "Iteration: 0066 | Cost: 1.300 | Time: 0.700\n",
      "Iteration: 0067 | Cost: 1.177 | Time: 0.711\n",
      "Iteration: 0068 | Cost: 0.979 | Time: 0.721\n",
      "Iteration: 0069 | Cost: 1.021 | Time: 0.732\n",
      "Iteration: 0070 | Cost: 1.143 | Time: 0.742\n",
      "Iteration: 0071 | Cost: 1.046 | Time: 0.752\n",
      "Iteration: 0072 | Cost: 1.084 | Time: 0.763\n",
      "Iteration: 0073 | Cost: 1.108 | Time: 0.773\n",
      "Iteration: 0074 | Cost: 0.952 | Time: 0.783\n",
      "Iteration: 0075 | Cost: 0.986 | Time: 0.794\n",
      "Iteration: 0076 | Cost: 1.029 | Time: 0.804\n",
      "Iteration: 0077 | Cost: 1.073 | Time: 0.815\n",
      "Iteration: 0078 | Cost: 1.046 | Time: 0.825\n",
      "Iteration: 0079 | Cost: 0.998 | Time: 0.836\n",
      "Iteration: 0080 | Cost: 1.023 | Time: 0.846\n",
      "Iteration: 0081 | Cost: 1.027 | Time: 0.857\n",
      "Iteration: 0082 | Cost: 0.975 | Time: 0.867\n",
      "Iteration: 0083 | Cost: 1.132 | Time: 0.877\n",
      "Iteration: 0084 | Cost: 1.048 | Time: 0.888\n",
      "Iteration: 0085 | Cost: 1.025 | Time: 0.898\n",
      "Iteration: 0086 | Cost: 1.085 | Time: 0.909\n",
      "Iteration: 0087 | Cost: 1.149 | Time: 0.919\n",
      "Iteration: 0088 | Cost: 1.031 | Time: 0.929\n",
      "Iteration: 0089 | Cost: 1.021 | Time: 0.940\n",
      "Iteration: 0090 | Cost: 1.065 | Time: 0.950\n",
      "Iteration: 0091 | Cost: 0.976 | Time: 0.961\n",
      "Iteration: 0092 | Cost: 0.942 | Time: 0.971\n",
      "Iteration: 0093 | Cost: 0.927 | Time: 0.982\n",
      "Iteration: 0094 | Cost: 0.927 | Time: 0.992\n",
      "Iteration: 0095 | Cost: 0.943 | Time: 1.002\n",
      "Iteration: 0096 | Cost: 0.925 | Time: 1.013\n",
      "Iteration: 0097 | Cost: 0.931 | Time: 1.023\n",
      "Iteration: 0098 | Cost: 1.098 | Time: 1.034\n",
      "Iteration: 0099 | Cost: 0.946 | Time: 1.045\n"
     ]
    },
    {
     "data": {
      "image/png": "[encoded data removed]",
      "text/plain": [
       "<Figure size 432x288 with 1 Axes>"
      ]
     },
     "metadata": {
      "needs_background": "light"
     },
     "output_type": "display_data"
    }
   ],
   "source": [
    "optimizer = FirstOrderPolicyOptimizer(params)\n",
    "optimizer.iterate()\n",
    "optimizer.plot_iterations()"
   ]
  },
  {
   "cell_type": "code",
   "execution_count": 8,
   "metadata": {},
   "outputs": [],
   "source": [
    "x0_batch = optimizer.sample_initial_state_batch()\n",
    "zero_noise_trj = torch.zeros(params.batch_size, params.T, 2)\n",
    "x_trj, u_trj = optimizer.rollout_policy_batch(x0_batch, zero_noise_trj)\n",
    "x_trj = x_trj.detach().numpy()\n",
    "\n",
    "plt.figure()\n",
    "for b in range(params.batch_size):\n",
    "    plt.plot(x_trj[b,:,0], x_trj[b,:,1], 'springgreen')\n",
    "plt.show()\n",
    "plt.close()"
   ]
  }
 ],
 "metadata": {
  "kernelspec": {
   "display_name": "Python 3",
   "language": "python",
   "name": "python3"
  },
  "language_info": {
   "codemirror_mode": {
    "name": "ipython",
    "version": 3
   },
   "file_extension": ".py",
   "mimetype": "text/x-python",
   "name": "python",
   "nbconvert_exporter": "python",
   "pygments_lexer": "ipython3",
   "version": "3.8.10"
  },
  "orig_nbformat": 4,
  "vscode": {
   "interpreter": {
    "hash": "e7370f93d1d0cde622a1f8e1c04877d8463912d04d973331ad4851f04de6915a"
   }
  }
 },
 "nbformat": 4,
 "nbformat_minor": 2
}
